{
 "cells": [
  {
   "cell_type": "code",
   "execution_count": 62,
   "metadata": {},
   "outputs": [],
   "source": [
    "import torch\n",
    "import argparse\n",
    "import torchvision\n",
    "from PIL import Image\n",
    "from torchvision.transforms.functional import *\n",
    "\n",
    "normimg = Image.open(\"C:/Users/Redmi/Downloads/test.jpg\")\n",
    "img = equalize(normimg)\n",
    "img = posterize(img,3)\n",
    "#img = to_grayscale(img)\n",
    "img = autocontrast(img)\n",
    "\n",
    "normimg = pil_to_tensor(normimg)\n",
    "img = pil_to_tensor(img)\n",
    "trans = torchvision.transforms.ToPILImage()\n",
    "\n",
    "#img = torch(normimg, img)\n",
    "\n",
    "img = trans(img)\n",
    "img.show()\n",
    "img = pil_to_tensor(img)\n",
    "img = img.type(torch.float)\n"
   ]
  },
  {
   "cell_type": "code",
   "execution_count": 51,
   "metadata": {},
   "outputs": [
    {
     "data": {
      "text/plain": [
       "'torch.FloatTensor'"
      ]
     },
     "execution_count": 51,
     "metadata": {},
     "output_type": "execute_result"
    }
   ],
   "source": [
    "img.size()\n",
    "img.type()"
   ]
  },
  {
   "cell_type": "code",
   "execution_count": 52,
   "metadata": {},
   "outputs": [],
   "source": [
    "from feature_extract import FeatureExtractor\n",
    "feature_extractor = FeatureExtractor()\n",
    "feature_extractor.eval()\n",
    "img = feature_extractor(img)\n"
   ]
  },
  {
   "cell_type": "code",
   "execution_count": 53,
   "metadata": {},
   "outputs": [],
   "source": [
    "import torch.nn as nn\n",
    "\n",
    "conv = nn.Conv2d(512,3,kernel_size=3)\n",
    "\n",
    "img = conv.forward(img)\n",
    "\n",
    "img = trans(img)\n",
    "img.show()"
   ]
  }
 ],
 "metadata": {
  "interpreter": {
   "hash": "b6213e0af081d56db034f795ff49d96980936e2ae540dda57fc6c3cbea6a5fc9"
  },
  "kernelspec": {
   "display_name": "Python 3.10.5 64-bit",
   "language": "python",
   "name": "python3"
  },
  "language_info": {
   "codemirror_mode": {
    "name": "ipython",
    "version": 3
   },
   "file_extension": ".py",
   "mimetype": "text/x-python",
   "name": "python",
   "nbconvert_exporter": "python",
   "pygments_lexer": "ipython3",
   "version": "3.10.5"
  },
  "orig_nbformat": 4
 },
 "nbformat": 4,
 "nbformat_minor": 2
}
